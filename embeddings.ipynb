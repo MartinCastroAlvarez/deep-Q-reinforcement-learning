{
 "cells": [
  {
   "cell_type": "code",
   "execution_count": 45,
   "id": "cabb6a1f-cb0f-4631-8ac4-30c71a1b877e",
   "metadata": {},
   "outputs": [],
   "source": [
    "import random\n",
    "from enum import Enum"
   ]
  },
  {
   "cell_type": "code",
   "execution_count": 1,
   "id": "32c2b1b5-13c4-4df6-ac7b-17879aa72d03",
   "metadata": {},
   "outputs": [],
   "source": [
    "import torch\n",
    "from transformers import BertModel, BertTokenizer\n",
    "from scipy.spatial.distance import cosine"
   ]
  },
  {
   "cell_type": "code",
   "execution_count": 3,
   "id": "457094eb-a0e3-4cba-bb12-24a0304a9d79",
   "metadata": {},
   "outputs": [
    {
     "name": "stderr",
     "output_type": "stream",
     "text": [
      "/Users/martincastro/Library/Python/3.8/lib/python/site-packages/transformers/tokenization_utils_base.py:1601: FutureWarning: `clean_up_tokenization_spaces` was not set. It will be set to `True` by default. This behavior will be depracted in transformers v4.45, and will be then set to `False` by default. For more details check this issue: https://github.com/huggingface/transformers/issues/31884\n",
      "  warnings.warn(\n"
     ]
    }
   ],
   "source": [
    "model_name = 'bert-base-uncased'\n",
    "tokenizer = BertTokenizer.from_pretrained(model_name)\n",
    "model = BertModel.from_pretrained(model_name)"
   ]
  },
  {
   "cell_type": "markdown",
   "id": "814c8e79-21f6-423a-9414-6aee4a70003b",
   "metadata": {},
   "source": [
    "### Defining Actions that can be taken by an AI agent"
   ]
  },
  {
   "cell_type": "code",
   "execution_count": 38,
   "id": "cfb2a19c-0540-4aaa-9219-174a5c35efa6",
   "metadata": {},
   "outputs": [],
   "source": [
    "class Actions(Enum):\n",
    "    RESPOND_ANGRILY = \"respond_angrily\"\n",
    "    RESPOND_CALMLY = \"respond_calmly\"\n",
    "    RESPOND_HAPPILY = \"respond_happily\"\n",
    "    RESPOND_SADLY = \"respond_sadly\"\n",
    "    TELL_JOKE_GENERAL = \"tell_joke_general\"\n",
    "    TELL_JOKE_KNOCK_KNOCK = \"tell_joke_knock_knock\"\n",
    "    TELL_JOKE_PUN = \"tell_joke_pun\"\n",
    "    LAUGH_LOUDLY = \"laugh_loudly\"\n",
    "    LAUGH_SOFTLY = \"laugh_softly\"\n",
    "    LAUGH_GIGGLY = \"laugh_giggly\"\n",
    "    ASK_QUESTION_GENERAL = \"ask_question_general\"\n",
    "    ASK_QUESTION_PERSONAL = \"ask_question_personal\"\n",
    "    ASK_QUESTION_TECHNICAL = \"ask_question_technical\"\n",
    "    SING_SONG_HAPPY = \"sing_song_happy\"\n",
    "    SING_SONG_SAD = \"sing_song_sad\"\n",
    "    SING_SONG_POP = \"sing_song_pop\"\n",
    "    PLAY_MUSIC_CLASSICAL = \"play_music_classical\"\n",
    "    PLAY_MUSIC_ROCK = \"play_music_rock\"\n",
    "    PLAY_MUSIC_JAZZ = \"play_music_jazz\"\n",
    "    DANCE_SALSA = \"dance_salsa\"\n",
    "    DANCE_HIPHOP = \"dance_hiphop\"\n",
    "    DANCE_BALLROOM = \"dance_ballroom\"\n",
    "    GREET_VIEWERS_CASUALLY = \"greet_viewers_casually\"\n",
    "    GREET_VIEWERS_FORMALLY = \"greet_viewers_formally\"\n",
    "    GREET_VIEWERS_ENERGETICALLY = \"greet_viewers_energetically\"\n",
    "    READ_COMMENT_POSITIVE = \"read_comment_positive\"\n",
    "    READ_COMMENT_NEGATIVE = \"read_comment_negative\"\n",
    "    READ_COMMENT_QUESTION = \"read_comment_question\"\n",
    "    THANK_VIEWERS_GRATEFULLY = \"thank_viewers_gratefully\"\n",
    "    THANK_VIEWERS_BRIEFLY = \"thank_viewers_briefly\"\n",
    "    THANK_VIEWERS_HEARTILY = \"thank_viewers_heartily\"\n",
    "    ENCOURAGE_INTERACTION_DIRECTLY = \"encourage_interaction_directly\"\n",
    "    ENCOURAGE_INTERACTION_SUBTLY = \"encourage_interaction_subtly\"\n",
    "    ENCOURAGE_INTERACTION_FUNLY = \"encourage_interaction_funly\"\n",
    "    SWITCH_SCENE_TO_MAIN = \"switch_scene_to_main\"\n",
    "    SWITCH_SCENE_TO_BE_RIGHT_BACK = \"switch_scene_to_be_right_back\"\n",
    "    SWITCH_SCENE_TO_ENDING = \"switch_scene_to_ending\"\n",
    "    ADJUST_LIGHTING_BRIGHTER = \"adjust_lighting_brighter\"\n",
    "    ADJUST_LIGHTING_DIMMER = \"adjust_lighting_dimmer\"\n",
    "    ADJUST_LIGHTING_COLORFUL = \"adjust_lighting_colorful\"\n",
    "    DISPLAY_TEXT_MESSAGE = \"display_text_message\"\n",
    "    DISPLAY_TEXT_WARNING = \"display_text_warning\"\n",
    "    DISPLAY_TEXT_UPDATE = \"display_text_update\"\n",
    "    DISPLAY_POLL_VIEWER_CHOICE = \"display_poll_viewer_choice\"\n",
    "    DISPLAY_POLL_FEEDBACK = \"display_poll_feedback\"\n",
    "    DISPLAY_POLL_OPINIONS = \"display_poll_opinions\"\n",
    "    ASK_FOR_FEEDBACK_GENERAL = \"ask_for_feedback_general\"\n",
    "    ASK_FOR_FEEDBACK_SPECIFIC = \"ask_for_feedback_specific\"\n",
    "    GIVE_SHOUTOUT_PERSONAL = \"give_shoutout_personal\"\n",
    "    GIVE_SHOUTOUT_SPONSOR = \"give_shoutout_sponsor\"\n",
    "    SHARE_STORY_PERSONAL = \"share_story_personal\"\n",
    "    SHARE_STORY_EDUCATIONAL = \"share_story_educational\"\n",
    "    SHARE_STORY_FUNNY = \"share_story_funny\""
   ]
  },
  {
   "cell_type": "markdown",
   "id": "29d2f794-e63b-4a7f-8bc2-ead4690d3842",
   "metadata": {},
   "source": [
    "### Normalizing the actions so that they can be tokenized"
   ]
  },
  {
   "cell_type": "code",
   "execution_count": 39,
   "id": "28cc191e-32ae-4023-804f-f65fad9370cc",
   "metadata": {},
   "outputs": [
    {
     "name": "stdout",
     "output_type": "stream",
     "text": [
      "['respond angrily', 'respond calmly', 'respond happily', 'respond sadly', 'tell joke general', 'tell joke knock knock', 'tell joke pun', 'laugh loudly', 'laugh softly', 'laugh giggly', 'ask question general', 'ask question personal', 'ask question technical', 'sing song happy', 'sing song sad', 'sing song pop', 'play music classical', 'play music rock', 'play music jazz', 'dance salsa', 'dance hiphop', 'dance ballroom', 'greet viewers casually', 'greet viewers formally', 'greet viewers energetically', 'read comment positive', 'read comment negative', 'read comment question', 'thank viewers gratefully', 'thank viewers briefly', 'thank viewers heartily', 'encourage interaction directly', 'encourage interaction subtly', 'encourage interaction funly', 'switch scene to main', 'switch scene to be right back', 'switch scene to ending', 'adjust lighting brighter', 'adjust lighting dimmer', 'adjust lighting colorful', 'display text message', 'display text warning', 'display text update', 'display poll viewer choice', 'display poll feedback', 'display poll opinions', 'ask for feedback general', 'ask for feedback specific', 'give shoutout personal', 'give shoutout sponsor', 'share story personal', 'share story educational', 'share story funny']\n"
     ]
    }
   ],
   "source": [
    "actions = [\n",
    "    action.value.lower().replace(\"_\", \" \")\n",
    "    for action in Actions\n",
    "]\n",
    "print(actions)"
   ]
  },
  {
   "cell_type": "markdown",
   "id": "cb1d94c8-9d96-40a8-8f7a-357b0acf1255",
   "metadata": {},
   "source": [
    "### Tokenizing actions so that they can be converted into embeddings"
   ]
  },
  {
   "cell_type": "code",
   "execution_count": 40,
   "id": "5846bdbd-b2b7-4d3b-9164-bb02b9ba5bec",
   "metadata": {},
   "outputs": [
    {
     "name": "stdout",
     "output_type": "stream",
     "text": [
      "Tokenized Actions: 53\n"
     ]
    }
   ],
   "source": [
    "tokens = [\n",
    "    tokenizer(action, padding=True, return_tensors=\"pt\")\n",
    "    for action in actions\n",
    "]\n",
    "print(\"Tokenized Actions:\", len(tokens))"
   ]
  },
  {
   "cell_type": "markdown",
   "id": "6df75da0-15c2-4f95-b9ea-9f6fe20b2986",
   "metadata": {},
   "source": [
    "### Calculating the embeddings of the tokens of the actions"
   ]
  },
  {
   "cell_type": "code",
   "execution_count": 41,
   "id": "4d8ee3bf-8e69-4f84-803e-9b8bc3a18390",
   "metadata": {},
   "outputs": [
    {
     "name": "stdout",
     "output_type": "stream",
     "text": [
      "torch.Size([768])\n"
     ]
    }
   ],
   "source": [
    "with torch.no_grad():\n",
    "    embeddings = [\n",
    "        model(**row).last_hidden_state[:, 1, :].squeeze(0)\n",
    "        for row in tokens\n",
    "    ]\n",
    "\n",
    "print(embeddings[0].shape)"
   ]
  },
  {
   "cell_type": "markdown",
   "id": "7826837a-27bb-415c-b03b-ca8cf04eb383",
   "metadata": {},
   "source": [
    "### Calculating the similarity of the embeddings of the actions"
   ]
  },
  {
   "cell_type": "code",
   "execution_count": 67,
   "id": "2aec384f-8076-40f5-8510-5f7860a279fb",
   "metadata": {},
   "outputs": [],
   "source": [
    "def sample(sample_size=10) -> None:\n",
    "    i = random.choice(range(len(actions)))\n",
    "    similarities = {\n",
    "        j: 1 - cosine(embeddings[i].numpy(), embeddings[j].numpy())\n",
    "        for j in range(len(actions))\n",
    "    }\n",
    "    sorted_similarities = sorted(similarities.items(), key=lambda item: item[1], reverse=True)\n",
    "    for k in range(sample_size):\n",
    "        j, similarity = sorted_similarities[k]\n",
    "        print(f\"The cosine similarity between '{actions[i]}' and '{actions[j]}' is: {similarity:.4f}\")"
   ]
  },
  {
   "cell_type": "code",
   "execution_count": 68,
   "id": "b936103a-eaf9-42b2-b734-9047f8d2a90e",
   "metadata": {},
   "outputs": [
    {
     "name": "stdout",
     "output_type": "stream",
     "text": [
      "The cosine similarity between 'display text warning' and 'display text warning' is: 1.0000\n",
      "The cosine similarity between 'display text warning' and 'display text update' is: 0.8900\n",
      "The cosine similarity between 'display text warning' and 'display text message' is: 0.8815\n",
      "The cosine similarity between 'display text warning' and 'display poll feedback' is: 0.7896\n",
      "The cosine similarity between 'display text warning' and 'display poll viewer choice' is: 0.6804\n",
      "The cosine similarity between 'display text warning' and 'display poll opinions' is: 0.6689\n",
      "The cosine similarity between 'display text warning' and 'read comment negative' is: 0.5958\n",
      "The cosine similarity between 'display text warning' and 'ask question personal' is: 0.5830\n",
      "The cosine similarity between 'display text warning' and 'ask question technical' is: 0.5689\n",
      "The cosine similarity between 'display text warning' and 'ask question general' is: 0.5586\n"
     ]
    }
   ],
   "source": [
    "sample()"
   ]
  },
  {
   "cell_type": "code",
   "execution_count": 69,
   "id": "348a43f2-014d-4056-9c15-d99e69c74e81",
   "metadata": {},
   "outputs": [
    {
     "name": "stdout",
     "output_type": "stream",
     "text": [
      "The cosine similarity between 'adjust lighting colorful' and 'adjust lighting colorful' is: 1.0000\n",
      "The cosine similarity between 'adjust lighting colorful' and 'adjust lighting brighter' is: 0.8317\n",
      "The cosine similarity between 'adjust lighting colorful' and 'adjust lighting dimmer' is: 0.7520\n",
      "The cosine similarity between 'adjust lighting colorful' and 'encourage interaction funly' is: 0.7317\n",
      "The cosine similarity between 'adjust lighting colorful' and 'ask for feedback general' is: 0.7262\n",
      "The cosine similarity between 'adjust lighting colorful' and 'ask for feedback specific' is: 0.7057\n",
      "The cosine similarity between 'adjust lighting colorful' and 'play music rock' is: 0.6825\n",
      "The cosine similarity between 'adjust lighting colorful' and 'respond calmly' is: 0.6623\n",
      "The cosine similarity between 'adjust lighting colorful' and 'display poll opinions' is: 0.6550\n",
      "The cosine similarity between 'adjust lighting colorful' and 'encourage interaction subtly' is: 0.6528\n"
     ]
    }
   ],
   "source": [
    "sample()"
   ]
  },
  {
   "cell_type": "code",
   "execution_count": 71,
   "id": "7eed3e2d-0a21-444a-bbb7-81119e63cef7",
   "metadata": {},
   "outputs": [
    {
     "name": "stdout",
     "output_type": "stream",
     "text": [
      "The cosine similarity between 'play music jazz' and 'play music jazz' is: 1.0000\n",
      "The cosine similarity between 'play music jazz' and 'play music classical' is: 0.9122\n",
      "The cosine similarity between 'play music jazz' and 'play music rock' is: 0.8627\n",
      "The cosine similarity between 'play music jazz' and 'dance salsa' is: 0.5921\n",
      "The cosine similarity between 'play music jazz' and 'ask question personal' is: 0.5792\n",
      "The cosine similarity between 'play music jazz' and 'ask question technical' is: 0.5774\n",
      "The cosine similarity between 'play music jazz' and 'ask question general' is: 0.5698\n",
      "The cosine similarity between 'play music jazz' and 'display poll opinions' is: 0.5658\n",
      "The cosine similarity between 'play music jazz' and 'sing song pop' is: 0.5652\n",
      "The cosine similarity between 'play music jazz' and 'encourage interaction subtly' is: 0.5636\n"
     ]
    }
   ],
   "source": [
    "sample()"
   ]
  },
  {
   "cell_type": "code",
   "execution_count": 73,
   "id": "624a02e2-c1c9-44dd-9895-24148fc39251",
   "metadata": {},
   "outputs": [
    {
     "name": "stdout",
     "output_type": "stream",
     "text": [
      "The cosine similarity between 'respond angrily' and 'respond angrily' is: 1.0000\n",
      "The cosine similarity between 'respond angrily' and 'respond happily' is: 0.8764\n",
      "The cosine similarity between 'respond angrily' and 'respond sadly' is: 0.8546\n",
      "The cosine similarity between 'respond angrily' and 'respond calmly' is: 0.8068\n",
      "The cosine similarity between 'respond angrily' and 'ask question general' is: 0.6029\n",
      "The cosine similarity between 'respond angrily' and 'ask question personal' is: 0.6008\n",
      "The cosine similarity between 'respond angrily' and 'ask question technical' is: 0.5974\n",
      "The cosine similarity between 'respond angrily' and 'read comment negative' is: 0.5601\n",
      "The cosine similarity between 'respond angrily' and 'greet viewers formally' is: 0.5338\n",
      "The cosine similarity between 'respond angrily' and 'read comment question' is: 0.5326\n"
     ]
    }
   ],
   "source": [
    "sample()"
   ]
  }
 ],
 "metadata": {
  "kernelspec": {
   "display_name": "Python 3 (ipykernel)",
   "language": "python",
   "name": "python3"
  },
  "language_info": {
   "codemirror_mode": {
    "name": "ipython",
    "version": 3
   },
   "file_extension": ".py",
   "mimetype": "text/x-python",
   "name": "python",
   "nbconvert_exporter": "python",
   "pygments_lexer": "ipython3",
   "version": "3.8.9"
  }
 },
 "nbformat": 4,
 "nbformat_minor": 5
}
